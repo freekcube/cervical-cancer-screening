{
 "cells": [
  {
   "cell_type": "markdown",
   "metadata": {},
   "source": [
    "## Cervix images exploration\n",
    "### Based on an useful notebook from kaggle"
   ]
  },
  {
   "cell_type": "code",
   "execution_count": 2,
   "metadata": {},
   "outputs": [
    {
     "name": "stdout",
     "output_type": "stream",
     "text": [
      "Using matplotlib backend: TkAgg\n",
      "Populating the interactive namespace from numpy and matplotlib\n",
      "Type_1\n",
      "Type_2\n",
      "Type_3\n",
      "\n"
     ]
    },
    {
     "name": "stderr",
     "output_type": "stream",
     "text": [
      "/usr/lib/python2.7/site-packages/IPython/core/magics/pylab.py:161: UserWarning: pylab import has clobbered these variables: ['imread', 'imshow']\n",
      "`%matplotlib` prevents importing * from pylab and numpy\n",
      "  \"\\n`%matplotlib` prevents importing * from pylab and numpy\"\n"
     ]
    }
   ],
   "source": [
    "import numpy as np\n",
    "import pandas as pd\n",
    "import matplotlib.pyplot as plt\n",
    "import seaborn as sns\n",
    "from skimage.io import imread, imshow\n",
    "#import cv2\n",
    "%pylab\n",
    "\n",
    "from subprocess import check_output\n",
    "print(check_output([\"ls\", \"/home/lcorona/Documents/kaggle/intel_competition/data/train\"]).decode(\"utf8\"))"
   ]
  },
  {
   "cell_type": "code",
   "execution_count": 3,
   "metadata": {},
   "outputs": [
    {
     "data": {
      "text/html": [
       "<div>\n",
       "<table border=\"1\" class=\"dataframe\">\n",
       "  <thead>\n",
       "    <tr style=\"text-align: right;\">\n",
       "      <th></th>\n",
       "      <th>imagepath</th>\n",
       "      <th>filetype</th>\n",
       "      <th>type</th>\n",
       "    </tr>\n",
       "  </thead>\n",
       "  <tbody>\n",
       "    <tr>\n",
       "      <th>0</th>\n",
       "      <td>/home/lcorona/Documents/kaggle/intel_competiti...</td>\n",
       "      <td>jpg</td>\n",
       "      <td>Type_1</td>\n",
       "    </tr>\n",
       "    <tr>\n",
       "      <th>1</th>\n",
       "      <td>/home/lcorona/Documents/kaggle/intel_competiti...</td>\n",
       "      <td>jpg</td>\n",
       "      <td>Type_1</td>\n",
       "    </tr>\n",
       "    <tr>\n",
       "      <th>2</th>\n",
       "      <td>/home/lcorona/Documents/kaggle/intel_competiti...</td>\n",
       "      <td>jpg</td>\n",
       "      <td>Type_1</td>\n",
       "    </tr>\n",
       "    <tr>\n",
       "      <th>3</th>\n",
       "      <td>/home/lcorona/Documents/kaggle/intel_competiti...</td>\n",
       "      <td>jpg</td>\n",
       "      <td>Type_1</td>\n",
       "    </tr>\n",
       "    <tr>\n",
       "      <th>4</th>\n",
       "      <td>/home/lcorona/Documents/kaggle/intel_competiti...</td>\n",
       "      <td>jpg</td>\n",
       "      <td>Type_1</td>\n",
       "    </tr>\n",
       "  </tbody>\n",
       "</table>\n",
       "</div>"
      ],
      "text/plain": [
       "                                           imagepath filetype    type\n",
       "0  /home/lcorona/Documents/kaggle/intel_competiti...      jpg  Type_1\n",
       "1  /home/lcorona/Documents/kaggle/intel_competiti...      jpg  Type_1\n",
       "2  /home/lcorona/Documents/kaggle/intel_competiti...      jpg  Type_1\n",
       "3  /home/lcorona/Documents/kaggle/intel_competiti...      jpg  Type_1\n",
       "4  /home/lcorona/Documents/kaggle/intel_competiti...      jpg  Type_1"
      ]
     },
     "execution_count": 3,
     "metadata": {},
     "output_type": "execute_result"
    }
   ],
   "source": [
    "from glob import glob\n",
    "basepath = '/home/lcorona/Documents/kaggle/intel_competition/data/train/'\n",
    "\n",
    "all_cervix_images = []\n",
    "\n",
    "for path in sorted(glob(basepath + \"*\")):\n",
    "    cervix_type = path.split(\"/\")[-1]\n",
    "    cervix_images = sorted(glob(basepath + cervix_type + \"/*\"))\n",
    "    all_cervix_images = all_cervix_images + cervix_images\n",
    "\n",
    "all_cervix_images = pd.DataFrame({'imagepath': all_cervix_images})\n",
    "all_cervix_images['filetype'] = all_cervix_images.apply(lambda row: row.imagepath.split(\".\")[-1], axis=1)\n",
    "all_cervix_images['type'] = all_cervix_images.apply(lambda row: row.imagepath.split(\"/\")[-2], axis=1)\n",
    "all_cervix_images.head()"
   ]
  },
  {
   "cell_type": "code",
   "execution_count": 4,
   "metadata": {},
   "outputs": [
    {
     "name": "stdout",
     "output_type": "stream",
     "text": [
      "We have a total of 1481 images in the whole dataset\n"
     ]
    },
    {
     "data": {
      "text/plain": [
       "<matplotlib.text.Text at 0x7f58bd99a750>"
      ]
     },
     "execution_count": 4,
     "metadata": {},
     "output_type": "execute_result"
    }
   ],
   "source": [
    "print('We have a total of {} images in the whole dataset'.format(all_cervix_images.shape[0]))\n",
    "type_aggregation = all_cervix_images.groupby(['type', 'filetype']).agg('count')\n",
    "type_aggregation_p = type_aggregation.apply(lambda row: 1.0*row['imagepath']/all_cervix_images.shape[0], axis=1)\n",
    "\n",
    "fig, axes = plt.subplots(nrows=2, ncols=1, figsize=(10, 8))\n",
    "\n",
    "type_aggregation.plot.barh(ax=axes[0])\n",
    "axes[0].set_xlabel(\"image count\")\n",
    "type_aggregation_p.plot.barh(ax=axes[1])\n",
    "axes[1].set_xlabel(\"training size fraction\")"
   ]
  },
  {
   "cell_type": "code",
   "execution_count": 5,
   "metadata": {},
   "outputs": [],
   "source": [
    "fig = plt.figure(figsize=(12,8))\n",
    "\n",
    "i = 1\n",
    "for t in all_cervix_images['type'].unique():\n",
    "    ax = fig.add_subplot(1,3,i)\n",
    "    i+=1\n",
    "    f = all_cervix_images[all_cervix_images['type'] == t]['imagepath'].values[0]\n",
    "    plt.imshow(plt.imread(f))\n",
    "    plt.title('sample for cervix {}'.format(t))"
   ]
  },
  {
   "cell_type": "code",
   "execution_count": 6,
   "metadata": {},
   "outputs": [
    {
     "name": "stdout",
     "output_type": "stream",
     "text": [
      "image read failed for /home/lcorona/Documents/kaggle/intel_competition/data/train/Type_1/1339.jpg\n"
     ]
    }
   ],
   "source": [
    "from collections import defaultdict\n",
    "\n",
    "images = defaultdict(list)\n",
    "\n",
    "for t in all_cervix_images['type'].unique():\n",
    "    sample_counter = 0\n",
    "    for _, row in all_cervix_images[all_cervix_images['type'] == t].iterrows():\n",
    "        #print('reading image {}'.format(row.imagepath))\n",
    "        try:\n",
    "            img = imread(row.imagepath)\n",
    "            sample_counter +=1\n",
    "            images[t].append(img)\n",
    "        except:\n",
    "            print('image read failed for {}'.format(row.imagepath))\n",
    "        if sample_counter > 100:\n",
    "            break"
   ]
  },
  {
   "cell_type": "code",
   "execution_count": 7,
   "metadata": {},
   "outputs": [
    {
     "data": {
      "text/html": [
       "<div>\n",
       "<table border=\"1\" class=\"dataframe\">\n",
       "  <thead>\n",
       "    <tr style=\"text-align: right;\">\n",
       "      <th></th>\n",
       "      <th>nchans</th>\n",
       "      <th>ncols</th>\n",
       "      <th>nrows</th>\n",
       "      <th>type</th>\n",
       "      <th>0</th>\n",
       "    </tr>\n",
       "  </thead>\n",
       "  <tbody>\n",
       "    <tr>\n",
       "      <th>6</th>\n",
       "      <td>3</td>\n",
       "      <td>2448</td>\n",
       "      <td>3264</td>\n",
       "      <td>Type_3</td>\n",
       "      <td>70</td>\n",
       "    </tr>\n",
       "    <tr>\n",
       "      <th>9</th>\n",
       "      <td>3</td>\n",
       "      <td>3096</td>\n",
       "      <td>4128</td>\n",
       "      <td>Type_3</td>\n",
       "      <td>24</td>\n",
       "    </tr>\n",
       "    <tr>\n",
       "      <th>3</th>\n",
       "      <td>3</td>\n",
       "      <td>2322</td>\n",
       "      <td>4128</td>\n",
       "      <td>Type_3</td>\n",
       "      <td>3</td>\n",
       "    </tr>\n",
       "    <tr>\n",
       "      <th>13</th>\n",
       "      <td>3</td>\n",
       "      <td>3264</td>\n",
       "      <td>2448</td>\n",
       "      <td>Type_3</td>\n",
       "      <td>2</td>\n",
       "    </tr>\n",
       "    <tr>\n",
       "      <th>15</th>\n",
       "      <td>3</td>\n",
       "      <td>4128</td>\n",
       "      <td>3096</td>\n",
       "      <td>Type_3</td>\n",
       "      <td>2</td>\n",
       "    </tr>\n",
       "    <tr>\n",
       "      <th>8</th>\n",
       "      <td>3</td>\n",
       "      <td>3096</td>\n",
       "      <td>4128</td>\n",
       "      <td>Type_2</td>\n",
       "      <td>51</td>\n",
       "    </tr>\n",
       "    <tr>\n",
       "      <th>5</th>\n",
       "      <td>3</td>\n",
       "      <td>2448</td>\n",
       "      <td>3264</td>\n",
       "      <td>Type_2</td>\n",
       "      <td>44</td>\n",
       "    </tr>\n",
       "    <tr>\n",
       "      <th>12</th>\n",
       "      <td>3</td>\n",
       "      <td>3264</td>\n",
       "      <td>2448</td>\n",
       "      <td>Type_2</td>\n",
       "      <td>2</td>\n",
       "    </tr>\n",
       "    <tr>\n",
       "      <th>14</th>\n",
       "      <td>3</td>\n",
       "      <td>4128</td>\n",
       "      <td>3096</td>\n",
       "      <td>Type_2</td>\n",
       "      <td>2</td>\n",
       "    </tr>\n",
       "    <tr>\n",
       "      <th>2</th>\n",
       "      <td>3</td>\n",
       "      <td>2322</td>\n",
       "      <td>4128</td>\n",
       "      <td>Type_2</td>\n",
       "      <td>1</td>\n",
       "    </tr>\n",
       "    <tr>\n",
       "      <th>11</th>\n",
       "      <td>3</td>\n",
       "      <td>3120</td>\n",
       "      <td>4160</td>\n",
       "      <td>Type_2</td>\n",
       "      <td>1</td>\n",
       "    </tr>\n",
       "    <tr>\n",
       "      <th>7</th>\n",
       "      <td>3</td>\n",
       "      <td>3096</td>\n",
       "      <td>4128</td>\n",
       "      <td>Type_1</td>\n",
       "      <td>65</td>\n",
       "    </tr>\n",
       "    <tr>\n",
       "      <th>4</th>\n",
       "      <td>3</td>\n",
       "      <td>2448</td>\n",
       "      <td>3264</td>\n",
       "      <td>Type_1</td>\n",
       "      <td>32</td>\n",
       "    </tr>\n",
       "    <tr>\n",
       "      <th>10</th>\n",
       "      <td>3</td>\n",
       "      <td>3120</td>\n",
       "      <td>4160</td>\n",
       "      <td>Type_1</td>\n",
       "      <td>2</td>\n",
       "    </tr>\n",
       "    <tr>\n",
       "      <th>0</th>\n",
       "      <td>3</td>\n",
       "      <td>480</td>\n",
       "      <td>640</td>\n",
       "      <td>Type_1</td>\n",
       "      <td>1</td>\n",
       "    </tr>\n",
       "    <tr>\n",
       "      <th>1</th>\n",
       "      <td>3</td>\n",
       "      <td>2322</td>\n",
       "      <td>4128</td>\n",
       "      <td>Type_1</td>\n",
       "      <td>1</td>\n",
       "    </tr>\n",
       "  </tbody>\n",
       "</table>\n",
       "</div>"
      ],
      "text/plain": [
       "    nchans  ncols  nrows    type   0\n",
       "6        3   2448   3264  Type_3  70\n",
       "9        3   3096   4128  Type_3  24\n",
       "3        3   2322   4128  Type_3   3\n",
       "13       3   3264   2448  Type_3   2\n",
       "15       3   4128   3096  Type_3   2\n",
       "8        3   3096   4128  Type_2  51\n",
       "5        3   2448   3264  Type_2  44\n",
       "12       3   3264   2448  Type_2   2\n",
       "14       3   4128   3096  Type_2   2\n",
       "2        3   2322   4128  Type_2   1\n",
       "11       3   3120   4160  Type_2   1\n",
       "7        3   3096   4128  Type_1  65\n",
       "4        3   2448   3264  Type_1  32\n",
       "10       3   3120   4160  Type_1   2\n",
       "0        3    480    640  Type_1   1\n",
       "1        3   2322   4128  Type_1   1"
      ]
     },
     "execution_count": 7,
     "metadata": {},
     "output_type": "execute_result"
    }
   ],
   "source": [
    "dfs = []\n",
    "for t in all_cervix_images['type'].unique():\n",
    "    t_ = pd.DataFrame(\n",
    "        {\n",
    "            'nrows': list(map(lambda i: i.shape[0], images[t])),\n",
    "            'ncols': list(map(lambda i: i.shape[1], images[t])),\n",
    "            'nchans': list(map(lambda i: i.shape[2], images[t])),\n",
    "            'type': t\n",
    "        }\n",
    "    )\n",
    "    dfs.append(t_)\n",
    "\n",
    "shapes_df = pd.concat(dfs, axis=0)\n",
    "shapes_df_grouped = shapes_df.groupby(by=['nchans', 'ncols', 'nrows', 'type']).size().reset_index().sort_values(['type', 0], ascending=False)\n",
    "shapes_df_grouped"
   ]
  },
  {
   "cell_type": "code",
   "execution_count": null,
   "metadata": {},
   "outputs": [],
   "source": []
  }
 ],
 "metadata": {
  "kernelspec": {
   "display_name": "Python 2",
   "language": "python",
   "name": "python2"
  },
  "language_info": {
   "codemirror_mode": {
    "name": "ipython",
    "version": 2
   },
   "file_extension": ".py",
   "mimetype": "text/x-python",
   "name": "python",
   "nbconvert_exporter": "python",
   "pygments_lexer": "ipython2",
   "version": "2.7.13"
  }
 },
 "nbformat": 4,
 "nbformat_minor": 2
}
